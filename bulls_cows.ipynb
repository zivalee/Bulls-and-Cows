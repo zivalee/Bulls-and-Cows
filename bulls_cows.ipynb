{
 "cells": [
  {
   "cell_type": "code",
   "execution_count": 2,
   "metadata": {},
   "outputs": [
    {
     "name": "stdout",
     "output_type": "stream",
     "text": [
      "['4', '2', '9', '0']\n",
      "Take your Guess or Enter 'exit' to Quit:4265\n",
      "['4', '2', '6', '5']\n",
      "bull: 2\n",
      "cow: 0\n",
      "Take your Guess or Enter 'exit' to Quit:4290\n",
      "['4', '2', '9', '0']\n",
      "bull: 4\n",
      "cow: 0\n",
      "Hurray, you get it!\n"
     ]
    }
   ],
   "source": [
    "import random\n",
    "ans = random.sample('0123456789',4)\n",
    "print(ans)\n",
    "\n",
    "def game():\n",
    "    count = 0\n",
    "    while True:\n",
    "        guess = input('Take your Guess or Enter \\'exit\\' to Quit:')\n",
    "        g = list(guess)\n",
    "        print(g)\n",
    "        if guess == 'exit':\n",
    "            print('Bye')\n",
    "            break\n",
    "            \n",
    "        cow = 0\n",
    "        bull = 0\n",
    "        for _ in range(4):\n",
    "            if g[_] == ans[_]:\n",
    "                bull += 1\n",
    "            elif g[_] in ans:\n",
    "                cow += 1\n",
    "        \n",
    "        print('bull:', bull)\n",
    "        print('cow:', cow)\n",
    "        \n",
    "        if bull == 4:\n",
    "            print('Hurray, you get it!')\n",
    "            break\n",
    "    \n",
    "if __name__ == '__main__':\n",
    "    game()"
   ]
  }
 ],
 "metadata": {
  "kernelspec": {
   "display_name": "Python 3",
   "language": "python",
   "name": "python3"
  },
  "language_info": {
   "codemirror_mode": {
    "name": "ipython",
    "version": 3
   },
   "file_extension": ".py",
   "mimetype": "text/x-python",
   "name": "python",
   "nbconvert_exporter": "python",
   "pygments_lexer": "ipython3",
   "version": "3.6.1"
  }
 },
 "nbformat": 4,
 "nbformat_minor": 2
}
